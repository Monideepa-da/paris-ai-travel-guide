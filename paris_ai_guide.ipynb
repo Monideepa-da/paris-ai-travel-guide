{
 "cells": [
  {
   "cell_type": "code",
   "execution_count": null,
   "id": "7f0bd542-17c7-48ff-9ee6-9de6e3153add",
   "metadata": {},
   "outputs": [],
   "source": [
    "#This Project walkthrough OpenAPI to generate responses to tourist questions\n",
    "import os\n",
    "from openai import OpenAI\n",
    "\n",
    "# Define the model to use\n",
    "model = \"gpt-4o-mini\"\n",
    "\n",
    "\n",
    "# Define the client\n",
    "client = OpenAI()\n",
    "\n",
    "# Define conversation\n",
    "conversation = [{\n",
    "    \"role\": \"system\",\n",
    "    \"content\": \"You will act as travel guide for the city Paris and provide user information and travel planning in a gentle way. For the questions apart from Travel, respond like: I'm sorry, I can't respond to questions other than Travel Information.\"\n",
    "}, {\"role\":\"user\",\"content\": \"what is the famous landmark in Paris?\", \"role\":\"assistant\",\"content\":\"The most famous landmark in Paris is the Eiffel Tower\"}]\n",
    "\n",
    "# Define the user questions\n",
    "user_msg  = [\n",
    "    \"How far away is the Louvre from the Eiffel Tower (in miles) if you are driving?\",\n",
    "    \"Where is the Arc de Triomphe?\",\n",
    "    \"What are the must-see artworks at the Louvre Museum?\",\n",
    "    \"What are you doing\"\n",
    "]\n",
    "\n",
    "# Loop over the user questions\n",
    "for q in user_msg:\n",
    "    print(\"user:\", q)\n",
    "    # Create a dictionary for the user messages from q and append to messages\n",
    "    user_dict = {\"role\": \"user\", \"content\": q}\n",
    "    conversation.append(user_dict)\n",
    "\n",
    "    # Create an API request\n",
    "    response = client.chat.completions.create(\n",
    "        model=model,\n",
    "        messages=conversation,\n",
    "        temperature=0.0,\n",
    "        max_tokens=100\n",
    "    )\n",
    "    # Extract the assistant message from the response\n",
    "    assistant_dict = {\"role\": \"assistant\", \"content\": response.choices[0].message.content}\n",
    "\n",
    "    # Add assistant dict to the message dictionary\n",
    "    conversation.append(assistant_dict)\n",
    "\n",
    "# Print the response from the model \n",
    "resp = response.choices[0].message.content\n",
    "print(resp)\n",
    "\n",
    "print(conversation)"
   ]
  },
  {
   "cell_type": "code",
   "execution_count": null,
   "id": "ab0b7613-31db-4abf-8c29-c221fb38eaee",
   "metadata": {},
   "outputs": [],
   "source": []
  }
 ],
 "metadata": {
  "kernelspec": {
   "display_name": "Python 3 (ipykernel)",
   "language": "python",
   "name": "python3"
  },
  "language_info": {
   "codemirror_mode": {
    "name": "ipython",
    "version": 3
   },
   "file_extension": ".py",
   "mimetype": "text/x-python",
   "name": "python",
   "nbconvert_exporter": "python",
   "pygments_lexer": "ipython3",
   "version": "3.12.7"
  }
 },
 "nbformat": 4,
 "nbformat_minor": 5
}
